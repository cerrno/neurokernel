{
 "cells": [
  {
   "cell_type": "markdown",
   "metadata": {},
   "source": [
    "# Olfaction Model Demo"
   ]
  },
  {
   "cell_type": "markdown",
   "metadata": {},
   "source": [
    "This notebook illustrates how to run a Neurokernel-based model of part of the fruit fly's antennal lobe."
   ]
  },
  {
   "cell_type": "markdown",
   "metadata": {},
   "source": [
    "### Background"
   ]
  },
  {
   "cell_type": "markdown",
   "metadata": {},
   "source": [
    "The early olfactory system in *Drosophila* consists of two antennal lobes,\n",
    "one on each side of the fly brain. Each of these LPUs contain 49 glomeruli that\n",
    "differ in functionality, size, shape, and relative position.  Each glomerulus\n",
    "receives axons from about 50 olfactory receptor neurons (ORNs) on each of the\n",
    "fly's two antennae that express the same odorant receptor. The axons of each ORN\n",
    "connect to the dendrites of 3 to 5 projection neurons (PNs) in the glomeruli.\n",
    "In addition to the PNs - which transmit olfactory information to the higher\n",
    "regions of the brain - the antennal lobes contain local neurons (LNs) whose\n",
    "connections are restricted to the lobes; inter-glomerular connectivity therefore\n",
    "subsumes synaptic connections between ORNs and PNs, ORNs and LNs, LNs and PNs, and feedback\n",
    "from PNs to LNs. The entire early olfactory system in *Drosophila*\n",
    "contains approximately 4000 neurons.\n",
    "\n",
    "The current model of the each antennal lobe comprises 49 glomerular channels\n",
    "with full intraglomerular connectivity in both hemispheres of the fly brain. The\n",
    "entire model comprises 2800 neurons, or 70% of the fly's entire antennal\n",
    "lobe. All neurons in the system are modeled using the Leaky Integrate-and-Fire\n",
    "(LIF) model and all synaptic currents elicited by spikes are modeled using alpha functions.\n",
    "Parameters for 24 of the glomerular channels are based upon currently available\n",
    "ORN type data [(Hallem et al., 2006)](#hallem_coding_2006); all other channels are configured with\n",
    "artificial parameters.\n",
    "\n",
    "A script that generates a [GEXF](http://gexf.net) file containing the antennal lobe model configuration is included in the ``examples/olfaction/data`` subdirectory of the Neurokernel source code. "
   ]
  },
  {
   "cell_type": "markdown",
   "metadata": {},
   "source": [
    "### Executing the Model"
   ]
  },
  {
   "cell_type": "markdown",
   "metadata": {},
   "source": [
    "Assuming that the Neurokernel source has been cloned to `~/neurokernel`, we first generate an input signal of duration 1.0 seconds and construct the LPU configuration:"
   ]
  },
  {
   "cell_type": "code",
   "execution_count": 1,
   "metadata": {
    "collapsed": false
   },
   "outputs": [],
   "source": [
    "%cd -q ~/neurokernel/examples/olfaction/data\n",
    "%run gen_olf_input.py\n",
    "%run create_olf_gexf.py"
   ]
  },
  {
   "cell_type": "markdown",
   "metadata": {},
   "source": [
    "Next, we identify the indices of the olfactory sensory neurons (OSNs) and projection neurons (PNs) associated with a specific glomerulus; in this case, we focus on glomerulus DA1:"
   ]
  },
  {
   "cell_type": "code",
   "execution_count": 2,
   "metadata": {
    "collapsed": false
   },
   "outputs": [],
   "source": [
    "import re\n",
    "import networkx as nx\n",
    "import neurokernel.tools.graph\n",
    "\n",
    "g = nx.read_gexf('antennallobe.gexf.gz')\n",
    "df_node, df_edge = neurokernel.tools.graph.graph_to_df(g)\n",
    "glom_name = 'DA1'\n",
    "osn_ind = sorted(list(set([ind[0] for ind in \\\n",
    "                           df_edge[df_edge.name.str.contains('.*-%s_.*' % glom_name)].index])))\n",
    "pn_ind = sorted(list(set([ind[1] for ind in \\\n",
    "                          df_edge[df_edge.name.str.contains('.*-%s_.*' % glom_name)].index])))\n",
    "\n",
    "# Get OSN and PN label indices:\n",
    "osn_ind_labels = [int(re.search('osn_.*_(\\d+)', name).group(1)) \\\n",
    "                  for name in df_node.ix[osn_ind].name]\n",
    "pn_ind_labels = [int(re.search('.*_pn_(\\d+)', name).group(1)) \\\n",
    "                 for name in df_node.ix[pn_ind].name]"
   ]
  },
  {
   "cell_type": "markdown",
   "metadata": {},
   "source": [
    "We now execute the model:"
   ]
  },
  {
   "cell_type": "code",
   "execution_count": 3,
   "metadata": {
    "collapsed": false
   },
   "outputs": [],
   "source": [
    "%cd -q ~/neurokernel/examples/olfaction\n",
    "%run olfaction_demo.py"
   ]
  },
  {
   "cell_type": "markdown",
   "metadata": {},
   "source": [
    "Next, we display the input odorant concentration profile and the spikes produced by the 25 OSNs and 3 PNs associated with glomerulus DA1 in the model:"
   ]
  },
  {
   "cell_type": "code",
   "execution_count": 4,
   "metadata": {
    "collapsed": false
   },
   "outputs": [
    {
     "data": {
      "image/png": "[encoded data removed]",
      "text/plain": [
       "<matplotlib.figure.Figure at 0x2b2fa1295790>"
      ]
     },
     "metadata": {},
     "output_type": "display_data"
    }
   ],
   "source": [
    "%matplotlib inline\n",
    "\n",
    "import h5py\n",
    "import matplotlib as mpl\n",
    "import matplotlib.pyplot as plt\n",
    "import matplotlib.ticker as ticker\n",
    "import numpy as np\n",
    "\n",
    "fmt = lambda x, pos: '%2.2f' % (float(x)/1e4)\n",
    "with h5py.File('./data/olfactory_input.h5', 'r') as fi, \\\n",
    "    h5py.File('olfactory_output_spike.h5','r') as fo:\n",
    "    data_i = fi['array'].value\n",
    "    data_o = fo['array'].value \n",
    "mpl.rcParams['figure.dpi'] = 120 \n",
    "mpl.rcParams['figure.figsize'] = (12,9)\n",
    "\n",
    "raster = lambda data: plt.eventplot([np.nonzero(data[i, :])[0] for i in xrange(data.shape[0])],\n",
    "                                    colors = [(0, 0, 0)],\n",
    "                                    lineoffsets = np.arange(data.shape[0]),\n",
    "                                    linelengths = np.ones(data.shape[0])/2.0)\n",
    "f = plt.figure()\n",
    "plt.subplot(311)\n",
    "ax = plt.gca()\n",
    "ax.xaxis.set_major_formatter(ticker.FuncFormatter(fmt))\n",
    "plt.plot(data_i[:10000, 0]); \n",
    "ax.set_ylim(np.min(data_i)-1, np.max(data_i)+1)\n",
    "ax.set_xlim(0, 10000)\n",
    "plt.title('Input Stimulus'); plt.ylabel('Concentration') \n",
    "\n",
    "plt.subplot(312)\n",
    "raster(data_o.T[osn_ind, :])\n",
    "plt.title('Spikes Generated by OSNs'); plt.ylabel('OSN #');\n",
    "ax = plt.gca()\n",
    "ax.set_ylim(np.min(osn_ind_labels), np.max(osn_ind_labels))\n",
    "ax.xaxis.set_major_formatter(ticker.FuncFormatter(fmt))\n",
    "ax.yaxis.set_major_locator(ticker.MultipleLocator(base=5.0))\n",
    "\n",
    "plt.subplot(313)\n",
    "raster(data_o.T[pn_ind, :])\n",
    "plt.title('Spikes Generated by PNs'); plt.ylabel('PN #');\n",
    "ax = plt.gca()\n",
    "ax.set_ylim(np.min(pn_ind_labels)-0.5, np.max(pn_ind_labels)+0.5)\n",
    "ax.xaxis.set_major_formatter(ticker.FuncFormatter(fmt))\n",
    "ax.yaxis.set_major_locator(ticker.MultipleLocator(base=1.0))\n",
    "\n",
    "plt.xlabel('time (s)')\n",
    "\n",
    "plt.subplots_adjust()\n",
    "f.savefig('olfactory_output.png')"
   ]
  },
  {
   "cell_type": "markdown",
   "metadata": {},
   "source": [
    "### Acknowledgements"
   ]
  },
  {
   "cell_type": "markdown",
   "metadata": {},
   "source": [
    "The olfactory model demonstrated in this notebook was developed by Chung-Heng Yeh."
   ]
  },
  {
   "cell_type": "markdown",
   "metadata": {},
   "source": [
    "### References"
   ]
  },
  {
   "cell_type": "markdown",
   "metadata": {},
   "source": [
    "<a name=\"hallem_coding_2006\"></a>Hallem, E. A. and Carlson, J. R. (2006), Coding of odors by a receptor repertoire, Cell, 125, 1, 143–160, doi:10.1016/j.cell.2006.01.050"
   ]
  }
 ],
 "metadata": {
  "kernelspec": {
   "display_name": "Python 2",
   "language": "python",
   "name": "python2"
  },
  "language_info": {
   "codemirror_mode": {
    "name": "ipython",
    "version": 2
   },
   "file_extension": ".py",
   "mimetype": "text/x-python",
   "name": "python",
   "nbconvert_exporter": "python",
   "pygments_lexer": "ipython2",
   "version": "2.7.10"
  }
 },
 "nbformat": 4,
 "nbformat_minor": 0
}
